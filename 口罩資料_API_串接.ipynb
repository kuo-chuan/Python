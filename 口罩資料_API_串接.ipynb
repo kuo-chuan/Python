{
  "nbformat": 4,
  "nbformat_minor": 0,
  "metadata": {
    "colab": {
      "name": "口罩資料 API 串接.ipynb",
      "provenance": []
    },
    "kernelspec": {
      "name": "python3",
      "display_name": "Python 3"
    },
    "language_info": {
      "name": "python"
    }
  },
  "cells": [
    {
      "cell_type": "markdown",
      "source": [
        "口罩實名制在去年初開始實施，為了避免像之前那樣出現排隊搶購的情況，健保署規劃提供即時的口罩庫存資訊給民眾參考，此口罩地圖 API 網址合併了多種開放資料，包含著特約藥局、診所相關資訊，以及健保署提供的口罩剩餘數量明細。"
      ],
      "metadata": {
        "id": "l5wZtHtqpUmg"
      }
    },
    {
      "cell_type": "code",
      "execution_count": null,
      "metadata": {
        "id": "VO_aS33Uo_JW"
      },
      "outputs": [],
      "source": [
        "import requests\n",
        "import json\n",
        "import pandas as pd"
      ]
    },
    {
      "cell_type": "code",
      "source": [
        "# 收集\n",
        "url = 'https://raw.githubusercontent.com/kiang/pharmacies/master/json/points.json'\n",
        "r = requests.get(url)\n",
        "response = r.text\n",
        "# 整理\n",
        "data = json.loads(response)\n",
        "with open(\"mask.json\", \"w\") as f:\n",
        "    f.write(json.dumps(data))\n",
        "with open('mask.json', 'r') as f:\n",
        "    data = json.load(f)"
      ],
      "metadata": {
        "id": "mIAHr6edpPRg"
      },
      "execution_count": null,
      "outputs": []
    },
    {
      "cell_type": "code",
      "source": [
        "#計算各地區的藥局數量\n",
        "from collections import defaultdict\n",
        "med_count = defaultdict(int)\n",
        "for row in data [\"features\"]:\n",
        "    #把縣市沒有登記到的醫院自動使用住址登記上\n",
        "    if row['properties']['county'] == \"\":\n",
        "        county = each[\"address\"][0:3]\n",
        "    else:\n",
        "        conunty = row['properties']['county']\n",
        "    med_count[conunty] += 1\n",
        "\n",
        "print(med_count)"
      ],
      "metadata": {
        "colab": {
          "base_uri": "https://localhost:8080/"
        },
        "id": "WcfMkcDQp5P9",
        "outputId": "b301b3fb-05c4-4a37-e481-3afa124659a7"
      },
      "execution_count": null,
      "outputs": [
        {
          "output_type": "stream",
          "name": "stdout",
          "text": [
            "defaultdict(<class 'int'>, {'臺北市': 340, '高雄市': 424, '臺中市': 436, '臺南市': 280, '基隆市': 57, '新竹市': 39, '嘉義市': 67, '新北市': 507, '桃園市': 271, '新竹縣': 48, '宜蘭縣': 76, '苗栗縣': 57, '彰化縣': 181, '南投縣': 67, '雲林縣': 131, '嘉義縣': 84, '屏東縣': 140, '澎湖縣': 11, '花蓮縣': 47, '臺東縣': 23, '金門縣': 6, '連江縣': 1})\n"
          ]
        }
      ]
    },
    {
      "cell_type": "code",
      "source": [
        "# 計算每個地區的剩餘口罩數量(分成人的和小孩的)，並且從大到小排列\n",
        "# 宣告 dictionary 用來存放資料\n",
        "child_count = defaultdict(int)\n",
        "adult_count = defaultdict(int) \n",
        " \n",
        "# 將資料迭代印出做計算\n",
        "for row in data['features']:\n",
        "    each = row[\"properties\"]\n",
        "    #把縣市沒有登記到的醫院自動使用住址登記上\n",
        "    if each[\"county\"] == \"\":\n",
        "        county = each[\"address\"][0:3]\n",
        "    else:\n",
        "        conunty = each['county']\n",
        "    mask_child = each['mask_adult']\n",
        "    mask_adult = each['mask_child']\n",
        "    child_count[conunty] += mask_child\n",
        "    adult_count[conunty] += mask_adult\n",
        "\n",
        "\n",
        "# 排序\n",
        "print(sorted(adult_count.items(), key=lambda kv: kv[1], reverse=True))\n",
        "print(sorted(child_count.items(), key=lambda kv: kv[1], reverse=True))"
      ],
      "metadata": {
        "colab": {
          "base_uri": "https://localhost:8080/"
        },
        "id": "FwaoTgcep7E9",
        "outputId": "07ce5d19-5f36-4959-e107-b3b066e6e247"
      },
      "execution_count": null,
      "outputs": [
        {
          "output_type": "stream",
          "name": "stdout",
          "text": [
            "[('新北市', 548660), ('臺中市', 489570), ('高雄市', 424980), ('臺北市', 344250), ('臺南市', 338410), ('桃園市', 276820), ('彰化縣', 222670), ('屏東縣', 169820), ('雲林縣', 168820), ('嘉義縣', 112370), ('嘉義市', 97820), ('宜蘭縣', 93670), ('南投縣', 91630), ('基隆市', 84380), ('苗栗縣', 83410), ('花蓮縣', 57840), ('新竹縣', 56040), ('新竹市', 43580), ('臺東縣', 25810), ('澎湖縣', 16510), ('金門縣', 14980), ('連江縣', 3470)]\n",
            "[('新北市', 677660), ('臺中市', 556440), ('高雄市', 428940), ('臺南市', 408400), ('桃園市', 345600), ('臺北市', 323660), ('彰化縣', 219400), ('雲林縣', 199470), ('屏東縣', 184250), ('苗栗縣', 134180), ('嘉義縣', 113180), ('嘉義市', 107840), ('宜蘭縣', 106900), ('南投縣', 91240), ('基隆市', 80100), ('花蓮縣', 57330), ('新竹縣', 53760), ('新竹市', 45630), ('臺東縣', 28510), ('金門縣', 15510), ('澎湖縣', 12600), ('連江縣', 7930)]\n"
          ]
        }
      ]
    },
    {
      "cell_type": "code",
      "source": [
        "# 透過 Pandas 套件計算\n",
        "properties = []\n",
        "\n",
        "for info in data['features']:\n",
        "    properties += [info['properties']]\n",
        "    \n",
        "#把縣市沒有登記到的醫院自動使用住址登記上\n",
        "for each in properties:\n",
        "    if each[\"county\"] == \"\":\n",
        "        each[\"county\"] = each[\"address\"][0:3]\n",
        "\n",
        "properties = pd.DataFrame(properties)\n",
        "\n",
        "total = properties[[\"county\", \"mask_adult\", \"mask_child\"]]\n",
        "total_sum = (total.groupby(by=['county']).sum()).sort_values(by=[\"mask_adult\", \"mask_child\"], ascending=False)\n",
        "print(total_sum)"
      ],
      "metadata": {
        "colab": {
          "base_uri": "https://localhost:8080/"
        },
        "id": "ecK9H156qQcR",
        "outputId": "1bacdf36-b93c-4ad0-fbb5-eb6a1a1d27bf"
      },
      "execution_count": null,
      "outputs": [
        {
          "output_type": "stream",
          "name": "stdout",
          "text": [
            "        mask_adult  mask_child\n",
            "county                        \n",
            "新北市         677660      548660\n",
            "臺中市         556440      489570\n",
            "高雄市         428940      424980\n",
            "臺南市         408400      338410\n",
            "桃園市         345600      276820\n",
            "臺北市         323660      344250\n",
            "彰化縣         219400      222670\n",
            "雲林縣         199470      168820\n",
            "屏東縣         184250      169820\n",
            "苗栗縣         134180       83410\n",
            "嘉義縣         113180      112370\n",
            "嘉義市         107840       97820\n",
            "宜蘭縣         106900       93670\n",
            "南投縣          91240       91630\n",
            "基隆市          80100       84380\n",
            "花蓮縣          57330       57840\n",
            "新竹縣          53760       56040\n",
            "新竹市          45630       43580\n",
            "臺東縣          28510       25810\n",
            "金門縣          15510       14980\n",
            "澎湖縣          12600       16510\n",
            "連江縣           7930        3470\n"
          ]
        }
      ]
    }
  ]
}