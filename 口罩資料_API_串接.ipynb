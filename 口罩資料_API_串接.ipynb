{
  "nbformat": 4,
  "nbformat_minor": 0,
  "metadata": {
    "colab": {
      "name": "口罩資料 API 串接.ipynb",
      "provenance": [],
      "authorship_tag": "ABX9TyNUGQJUNcTFVVrZIyytwwwI",
      "include_colab_link": true
    },
    "kernelspec": {
      "name": "python3",
      "display_name": "Python 3"
    },
    "language_info": {
      "name": "python"
    }
  },
  "cells": [
    {
      "cell_type": "markdown",
      "metadata": {
        "id": "view-in-github",
        "colab_type": "text"
      },
      "source": [
        "<a href=\"https://colab.research.google.com/github/kuo-chuan/Python/blob/main/%E5%8F%A3%E7%BD%A9%E8%B3%87%E6%96%99_API_%E4%B8%B2%E6%8E%A5.ipynb\" target=\"_parent\"><img src=\"https://colab.research.google.com/assets/colab-badge.svg\" alt=\"Open In Colab\"/></a>"
      ]
    },
    {
      "cell_type": "markdown",
      "source": [
        "口罩實名制在去年初開始實施，為了避免像之前那樣出現排隊搶購的情況，健保署規劃提供即時的口罩庫存資訊給民眾參考，此口罩地圖 API 網址合併了多種開放資料，包含著特約藥局、診所相關資訊，以及健保署提供的口罩剩餘數量明細。"
      ],
      "metadata": {
        "id": "l5wZtHtqpUmg"
      }
    },
    {
      "cell_type": "code",
      "execution_count": 1,
      "metadata": {
        "id": "VO_aS33Uo_JW"
      },
      "outputs": [],
      "source": [
        "import requests\n",
        "import json\n",
        "import pandas as pd"
      ]
    },
    {
      "cell_type": "code",
      "source": [
        "# 收集\n",
        "url = 'https://raw.githubusercontent.com/kiang/pharmacies/master/json/points.json'\n",
        "r = requests.get(url)\n",
        "response = r.text\n",
        "# 整理\n",
        "data = json.loads(response)\n",
        "with open(\"mask.json\", \"w\") as f:\n",
        "    f.write(json.dumps(data))\n",
        "with open('mask.json', 'r') as f:\n",
        "    data = json.load(f)"
      ],
      "metadata": {
        "id": "mIAHr6edpPRg"
      },
      "execution_count": 2,
      "outputs": []
    },
    {
      "cell_type": "code",
      "source": [
        "#計算各地區的藥局數量\n",
        "from collections import defaultdict\n",
        "med_count = defaultdict(int)\n",
        "for row in data['features']:\n",
        "    conunty = row['properties']['county']\n",
        "    med_count[conunty] += 1\n",
        "\n",
        "print(med_count)"
      ],
      "metadata": {
        "colab": {
          "base_uri": "https://localhost:8080/"
        },
        "id": "WcfMkcDQp5P9",
        "outputId": "2be1cff4-fb39-420c-c20e-1b017cee31e8"
      },
      "execution_count": 3,
      "outputs": [
        {
          "output_type": "stream",
          "name": "stdout",
          "text": [
            "defaultdict(<class 'int'>, {'臺北市': 339, '': 49, '高雄市': 422, '臺中市': 420, '臺南市': 271, '基隆市': 57, '新竹市': 39, '嘉義市': 67, '新北市': 501, '桃園市': 264, '新竹縣': 46, '宜蘭縣': 76, '苗栗縣': 56, '彰化縣': 179, '南投縣': 67, '雲林縣': 129, '嘉義縣': 84, '屏東縣': 140, '澎湖縣': 11, '花蓮縣': 46, '臺東縣': 23, '金門縣': 6, '連江縣': 1})\n"
          ]
        }
      ]
    },
    {
      "cell_type": "code",
      "source": [
        "# 試著計算每個地區的剩餘口罩數量(分成人的和小孩的)，並且從大到小排列\n",
        "# 宣告 dictionary 用來存放資料\n",
        "child_count = defaultdict(int)\n",
        "adult_count = defaultdict(int) \n",
        " \n",
        "# 將資料迭代印出做計算\n",
        "for row in data['features']:\n",
        "    conunty = row['properties']['county']\n",
        "    mask_child = row['properties']['mask_child']\n",
        "    mask_adult = row['properties']['mask_adult']\n",
        "    child_count[conunty] += mask_child\n",
        "    adult_count[conunty] += mask_adult\n",
        "\n",
        "# 排序\n",
        "print(sorted(adult_count.items(), key=lambda kv: kv[1], reverse=True))\n",
        "print(sorted(child_count.items(), key=lambda kv: kv[1], reverse=True))"
      ],
      "metadata": {
        "colab": {
          "base_uri": "https://localhost:8080/"
        },
        "id": "FwaoTgcep7E9",
        "outputId": "5d6b887c-e98f-40dd-ed83-25b5636fb6ae"
      },
      "execution_count": 4,
      "outputs": [
        {
          "output_type": "stream",
          "name": "stdout",
          "text": [
            "[('新北市', 670270), ('臺中市', 536710), ('高雄市', 424170), ('臺南市', 393900), ('桃園市', 331940), ('臺北市', 322490), ('彰化縣', 219400), ('雲林縣', 196990), ('屏東縣', 184250), ('苗栗縣', 131080), ('嘉義縣', 113180), ('嘉義市', 107840), ('宜蘭縣', 106900), ('南投縣', 91240), ('基隆市', 80100), ('', 69210), ('花蓮縣', 57330), ('新竹縣', 51350), ('新竹市', 45630), ('臺東縣', 28510), ('金門縣', 15510), ('澎湖縣', 12600), ('連江縣', 7930)]\n",
            "[('新北市', 539260), ('臺中市', 470910), ('高雄市', 421180), ('臺北市', 344150), ('臺南市', 327950), ('桃園市', 270810), ('彰化縣', 220060), ('屏東縣', 169820), ('雲林縣', 165570), ('嘉義縣', 112370), ('嘉義市', 97820), ('宜蘭縣', 93670), ('南投縣', 91630), ('基隆市', 84380), ('苗栗縣', 82630), ('花蓮縣', 57190), ('', 56130), ('新竹縣', 55630), ('新竹市', 43580), ('臺東縣', 25810), ('澎湖縣', 16510), ('金門縣', 14980), ('連江縣', 3470)]\n"
          ]
        }
      ]
    },
    {
      "cell_type": "code",
      "source": [
        "# 透過 Pandas 套件計算\n",
        "properties = []\n",
        "\n",
        "for info in data['features']:\n",
        "    properties += [info['properties']]\n",
        "\n",
        "properties = pd.DataFrame(properties)\n",
        "\n",
        "total = properties[[\"county\", \"mask_adult\", \"mask_child\"]]\n",
        "total_sum = (total.groupby(by=['county']).sum()).sort_values(by=[\"mask_adult\", \"mask_child\"], ascending=False)\n",
        "print(total_sum)"
      ],
      "metadata": {
        "colab": {
          "base_uri": "https://localhost:8080/"
        },
        "id": "ecK9H156qQcR",
        "outputId": "6fa898b2-ff0d-45ab-9bb5-e1bdb55ba968"
      },
      "execution_count": 5,
      "outputs": [
        {
          "output_type": "stream",
          "name": "stdout",
          "text": [
            "        mask_adult  mask_child\n",
            "county                        \n",
            "新北市         670270      539260\n",
            "臺中市         536710      470910\n",
            "高雄市         424170      421180\n",
            "臺南市         393900      327950\n",
            "桃園市         331940      270810\n",
            "臺北市         322490      344150\n",
            "彰化縣         219400      220060\n",
            "雲林縣         196990      165570\n",
            "屏東縣         184250      169820\n",
            "苗栗縣         131080       82630\n",
            "嘉義縣         113180      112370\n",
            "嘉義市         107840       97820\n",
            "宜蘭縣         106900       93670\n",
            "南投縣          91240       91630\n",
            "基隆市          80100       84380\n",
            "             69210       56130\n",
            "花蓮縣          57330       57190\n",
            "新竹縣          51350       55630\n",
            "新竹市          45630       43580\n",
            "臺東縣          28510       25810\n",
            "金門縣          15510       14980\n",
            "澎湖縣          12600       16510\n",
            "連江縣           7930        3470\n"
          ]
        }
      ]
    }
  ]
}