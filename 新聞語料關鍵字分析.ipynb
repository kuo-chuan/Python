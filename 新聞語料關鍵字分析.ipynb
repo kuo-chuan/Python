{
  "nbformat": 4,
  "nbformat_minor": 0,
  "metadata": {
    "colab": {
      "name": "新聞語料關鍵字分析.ipynb",
      "provenance": [],
      "collapsed_sections": [],
      "authorship_tag": "ABX9TyP5spUIBgnyZ2DPsmRgPFDP",
      "include_colab_link": true
    },
    "kernelspec": {
      "name": "python3",
      "display_name": "Python 3"
    },
    "language_info": {
      "name": "python"
    }
  },
  "cells": [
    {
      "cell_type": "markdown",
      "metadata": {
        "id": "view-in-github",
        "colab_type": "text"
      },
      "source": [
        "<a href=\"https://colab.research.google.com/github/kuo-chuan/Python/blob/main/%E6%96%B0%E8%81%9E%E8%AA%9E%E6%96%99%E9%97%9C%E9%8D%B5%E5%AD%97%E5%88%86%E6%9E%90.ipynb\" target=\"_parent\"><img src=\"https://colab.research.google.com/assets/colab-badge.svg\" alt=\"Open In Colab\"/></a>"
      ]
    },
    {
      "cell_type": "code",
      "source": [
        "from google.colab import files\n",
        "uploaded = files.upload()"
      ],
      "metadata": {
        "colab": {
          "resources": {
            "http://localhost:8080/nbextensions/google.colab/files.js": {
              "data": "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",
              "ok": true,
              "headers": [
                [
                  "content-type",
                  "application/javascript"
                ]
              ],
              "status": 200,
              "status_text": ""
            }
          },
          "base_uri": "https://localhost:8080/",
          "height": 75
        },
        "id": "2zlglwHJyJAc",
        "outputId": "17c2f05d-2d6e-4da8-ad2f-e1b93c539589"
      },
      "execution_count": 3,
      "outputs": [
        {
          "output_type": "display_data",
          "data": {
            "text/plain": [
              "<IPython.core.display.HTML object>"
            ],
            "text/html": [
              "\n",
              "     <input type=\"file\" id=\"files-2baff80b-5e62-4cf8-a70d-4ba4a6a88355\" name=\"files[]\" multiple disabled\n",
              "        style=\"border:none\" />\n",
              "     <output id=\"result-2baff80b-5e62-4cf8-a70d-4ba4a6a88355\">\n",
              "      Upload widget is only available when the cell has been executed in the\n",
              "      current browser session. Please rerun this cell to enable.\n",
              "      </output>\n",
              "      <script src=\"/nbextensions/google.colab/files.js\"></script> "
            ]
          },
          "metadata": {}
        },
        {
          "output_type": "stream",
          "name": "stdout",
          "text": [
            "Saving test.txt to test.txt\n"
          ]
        }
      ]
    },
    {
      "cell_type": "code",
      "source": [
        "# txt檔案路徑\n",
        "txt_file_path = \"test.txt\"\n",
        "\n",
        "# 載入檔案到變數中\n",
        "with open(txt_file_path, \"r\")as fn:\n",
        "    lines = fn.readlines()\n",
        "    lines = list(map(lambda x: x.strip(),lines)) # 移除斷行字元"
      ],
      "metadata": {
        "id": "VSkhJKHUyJho"
      },
      "execution_count": 4,
      "outputs": []
    },
    {
      "cell_type": "code",
      "source": [
        "lines"
      ],
      "metadata": {
        "colab": {
          "base_uri": "https://localhost:8080/"
        },
        "id": "yVgGYSq5dVqU",
        "outputId": "535ab329-823d-4a6d-c2a9-c5118b55876b"
      },
      "execution_count": 5,
      "outputs": [
        {
          "output_type": "execute_result",
          "data": {
            "text/plain": [
              "['東航墜機132人生死未明 習近平「驚悉失事」',\n",
              " '',\n",
              " '東方航空公司MU5735航班今（21）日在廣西梧州市上空墜毀，機上載有乘客123人、機組人員9人。根據大陸官方媒體《人民日報》報導指出，大陸國家主席習近平第一時間指示全力組織搜救，調查飛安事故原因，並且全力清查所有民航機安全隱患。',\n",
              " '',\n",
              " '《人民日報》報導稱，事發後習近平立即作出重要指示，「驚悉東航MU5735航班失事，要立即啓動應變機制，全力組織搜救，妥善處置善後。國務院已委派領導同志協調處理，盡快查明事故原因，並加強民用航空領域安全隱患排查，狠抓責任落實，確保航空運行絕對安全，確保人民生命絕對安全。」',\n",
              " '',\n",
              " '大陸民航局曾於今年2月25日發布數據指出，「中國民航運輸航空已實現持續安全飛行時間突破1億小時。」沒想到今天下午兩點多，就發生大陸東方航空MU5735國內客機墜毀事件，目前確定機身已經解體，機上132人生死未明。',\n",
              " '',\n",
              " '據大陸官方資料，大陸國內航班已經相隔11年多沒有意外事故，最慘的一次發生於1992年11月24日，當時南方航空公司波音737-2523號飛機從廣州飛桂林，在廣西陽朔縣楊堤鄉土嶺村後山粉碎性解體，141人遇難，是大陸民航史上最嚴重的空難之一。']"
            ]
          },
          "metadata": {},
          "execution_count": 5
        }
      ]
    },
    {
      "cell_type": "markdown",
      "source": [
        "## 試著在 Colab 中使用 pip 安裝 `jieba` 斷詞套件與相關工具"
      ],
      "metadata": {
        "id": "V_aKM2HIXPup"
      }
    },
    {
      "cell_type": "code",
      "source": [
        "# 安裝 jieba 中文斷詞套件\n",
        "!pip install jieba \n",
        "\n",
        "# 下載官方字典檔\n",
        "!wget https://raw.githubusercontent.com/fxsjy/jieba/master/extra_dict/dict.txt.big\n"
      ],
      "metadata": {
        "id": "RmbhNROgXPTh",
        "colab": {
          "base_uri": "https://localhost:8080/"
        },
        "outputId": "b1ac10f0-8d00-4c1c-a597-4b1e98c46647"
      },
      "execution_count": 6,
      "outputs": [
        {
          "output_type": "stream",
          "name": "stdout",
          "text": [
            "Requirement already satisfied: jieba in /usr/local/lib/python3.7/dist-packages (0.42.1)\n",
            "--2022-03-28 15:05:54--  https://raw.githubusercontent.com/fxsjy/jieba/master/extra_dict/dict.txt.big\n",
            "Resolving raw.githubusercontent.com (raw.githubusercontent.com)... 185.199.108.133, 185.199.109.133, 185.199.110.133, ...\n",
            "Connecting to raw.githubusercontent.com (raw.githubusercontent.com)|185.199.108.133|:443... connected.\n",
            "HTTP request sent, awaiting response... 200 OK\n",
            "Length: 8583143 (8.2M) [text/plain]\n",
            "Saving to: ‘dict.txt.big’\n",
            "\n",
            "dict.txt.big        100%[===================>]   8.18M  --.-KB/s    in 0.04s   \n",
            "\n",
            "2022-03-28 15:05:56 (184 MB/s) - ‘dict.txt.big’ saved [8583143/8583143]\n",
            "\n"
          ]
        }
      ]
    },
    {
      "cell_type": "code",
      "source": [
        "# 載入套件與字典檔\n",
        "import jieba\n",
        "jieba.load_userdict(\"/content/dict.txt.big\")"
      ],
      "metadata": {
        "id": "iCiryFxAdgKI"
      },
      "execution_count": 9,
      "outputs": []
    },
    {
      "cell_type": "markdown",
      "source": [
        "## 試著用不同的斷詞模式將每篇新聞的原文進行斷詞："
      ],
      "metadata": {
        "id": "u-ptPk4WEj49"
      }
    },
    {
      "cell_type": "markdown",
      "source": [
        "- 精確模式: Jieba基礎的斷詞模式，將句子精確的切開\n",
        "- 全模式: 將cut_all設為true，把句子可以成詞的詞都斷出來\n",
        "- 搜尋引擎模式: 在精確模式的基礎上，對長的詞語再次切分，適合用於搜尋引擎分詞"
      ],
      "metadata": {
        "id": "jKzlIIIWEj5G"
      }
    },
    {
      "cell_type": "code",
      "source": [
        "print('/'.join(jieba.cut(\"我愛自然語言處理\", cut_all=False)))\n",
        "print('/'.join(jieba.cut(\"我愛自然語言處理\", cut_all=True)))\n",
        "print('/'.join(jieba.cut_for_search(\"我愛自然語言處理\")))"
      ],
      "metadata": {
        "colab": {
          "base_uri": "https://localhost:8080/"
        },
        "outputId": "227f2ce5-3cc3-4404-e531-d7af695f3e34",
        "id": "LPbz0yLkEj5H"
      },
      "execution_count": 21,
      "outputs": [
        {
          "output_type": "stream",
          "name": "stdout",
          "text": [
            "我/愛/自然語言/處理\n",
            "我/愛/自然/自然語言/語言/處理\n",
            "我/愛/自然/語言/自然語言/處理\n"
          ]
        }
      ]
    },
    {
      "cell_type": "code",
      "source": [
        "# 精確模式斷詞\n",
        "tokens_1 = list(map(lambda x: list(jieba.cut(str(x), HMM=False)), lines))\n",
        "\n",
        "# 全模式斷詞\n",
        "tokens_2 = list(map(lambda x: list(jieba.cut(str(x), cut_all=True, HMM=False)), lines))\n",
        "\n",
        "# 搜尋引擎模式斷詞\n",
        "tokens_3 = list(map(lambda x: list(jieba.cut_for_search(str(x), HMM=False)), lines))"
      ],
      "metadata": {
        "id": "jPSu0vVSEj5I"
      },
      "execution_count": 22,
      "outputs": []
    },
    {
      "cell_type": "code",
      "source": [
        "print(lines)\n",
        "print(tokens_1[0])"
      ],
      "metadata": {
        "colab": {
          "base_uri": "https://localhost:8080/"
        },
        "outputId": "80e6f756-8844-4454-a96b-f9be257dcaa2",
        "id": "dJgosiDZEj5I"
      },
      "execution_count": 23,
      "outputs": [
        {
          "output_type": "stream",
          "name": "stdout",
          "text": [
            "['東航墜機132人生死未明 習近平「驚悉失事」', '', '東方航空公司MU5735航班今（21）日在廣西梧州市上空墜毀，機上載有乘客123人、機組人員9人。根據大陸官方媒體《人民日報》報導指出，大陸國家主席習近平第一時間指示全力組織搜救，調查飛安事故原因，並且全力清查所有民航機安全隱患。', '', '《人民日報》報導稱，事發後習近平立即作出重要指示，「驚悉東航MU5735航班失事，要立即啓動應變機制，全力組織搜救，妥善處置善後。國務院已委派領導同志協調處理，盡快查明事故原因，並加強民用航空領域安全隱患排查，狠抓責任落實，確保航空運行絕對安全，確保人民生命絕對安全。」', '', '大陸民航局曾於今年2月25日發布數據指出，「中國民航運輸航空已實現持續安全飛行時間突破1億小時。」沒想到今天下午兩點多，就發生大陸東方航空MU5735國內客機墜毀事件，目前確定機身已經解體，機上132人生死未明。', '', '據大陸官方資料，大陸國內航班已經相隔11年多沒有意外事故，最慘的一次發生於1992年11月24日，當時南方航空公司波音737-2523號飛機從廣州飛桂林，在廣西陽朔縣楊堤鄉土嶺村後山粉碎性解體，141人遇難，是大陸民航史上最嚴重的空難之一。']\n",
            "['東航', '墜機', '132', '人', '生死', '未明', ' ', '習近平', '「', '驚悉', '失事', '」']\n"
          ]
        }
      ]
    },
    {
      "cell_type": "code",
      "source": [
        "len(tokens_1)"
      ],
      "metadata": {
        "colab": {
          "base_uri": "https://localhost:8080/"
        },
        "outputId": "7cfd14e4-dacb-4754-b219-1fffbe135b4f",
        "id": "n6PyzQivEj5J"
      },
      "execution_count": 24,
      "outputs": [
        {
          "output_type": "execute_result",
          "data": {
            "text/plain": [
              "9"
            ]
          },
          "metadata": {},
          "execution_count": 24
        }
      ]
    },
    {
      "cell_type": "markdown",
      "source": [
        "## 將斷詞後的結果計算成每個字詞的出現次數（詞頻），並存成以「出現單字為 KEY、出現次數為 Value」的 dict 型態變數"
      ],
      "metadata": {
        "id": "plf1wWlo2GCv"
      }
    },
    {
      "cell_type": "markdown",
      "source": [
        "Method 1 : 用 dictionary 儲存\n"
      ],
      "metadata": {
        "id": "VKUb4DE-3MPU"
      }
    },
    {
      "cell_type": "code",
      "source": [
        "word_count = {}\n",
        "for sent in tokens_1: # 放入斷詞之後的變數\n",
        "  for word in sent:\n",
        "    if word not in word_count:\n",
        "      word_count[word] = 0\n",
        "    word_count[word] += 1 \n",
        "word_count"
      ],
      "metadata": {
        "id": "ggnDHxg-2FVX",
        "colab": {
          "base_uri": "https://localhost:8080/"
        },
        "outputId": "8a3c2c2e-9328-45f4-a79f-b4ec172118fc"
      },
      "execution_count": 25,
      "outputs": [
        {
          "output_type": "execute_result",
          "data": {
            "text/plain": [
              "{' ': 1,\n",
              " '-': 1,\n",
              " '1': 1,\n",
              " '11': 2,\n",
              " '123': 1,\n",
              " '132': 2,\n",
              " '141': 1,\n",
              " '1992': 1,\n",
              " '2': 1,\n",
              " '21': 1,\n",
              " '24': 1,\n",
              " '25': 1,\n",
              " '2523': 1,\n",
              " '737': 1,\n",
              " '9': 1,\n",
              " 'MU5735': 3,\n",
              " '、': 1,\n",
              " '。': 7,\n",
              " '《': 2,\n",
              " '》': 2,\n",
              " '「': 3,\n",
              " '」': 3,\n",
              " '一次': 1,\n",
              " '上': 1,\n",
              " '上空': 1,\n",
              " '並': 1,\n",
              " '並且': 1,\n",
              " '中國民航': 1,\n",
              " '主席': 1,\n",
              " '之一': 1,\n",
              " '乘客': 1,\n",
              " '事件': 1,\n",
              " '事故': 2,\n",
              " '事發': 1,\n",
              " '人': 5,\n",
              " '人民': 1,\n",
              " '人民日報': 2,\n",
              " '今': 1,\n",
              " '今天下午': 1,\n",
              " '作出': 1,\n",
              " '億': 1,\n",
              " '全力': 3,\n",
              " '兩點': 1,\n",
              " '加強': 1,\n",
              " '協調': 1,\n",
              " '南方航空公司': 1,\n",
              " '原因': 2,\n",
              " '同志': 1,\n",
              " '啓動': 1,\n",
              " '善後': 1,\n",
              " '嚴重': 1,\n",
              " '國內': 2,\n",
              " '國務院': 1,\n",
              " '國家': 1,\n",
              " '在': 2,\n",
              " '堤': 1,\n",
              " '報導': 2,\n",
              " '墜機': 1,\n",
              " '墜毀': 2,\n",
              " '多': 2,\n",
              " '大陸': 7,\n",
              " '失事': 2,\n",
              " '妥善處置': 1,\n",
              " '委派': 1,\n",
              " '媒體': 1,\n",
              " '安': 1,\n",
              " '安全': 3,\n",
              " '安全隱患': 2,\n",
              " '官方': 2,\n",
              " '客機': 1,\n",
              " '實現': 1,\n",
              " '小時': 1,\n",
              " '就': 1,\n",
              " '嶺': 1,\n",
              " '已': 2,\n",
              " '已經': 2,\n",
              " '布': 1,\n",
              " '年': 3,\n",
              " '廣州': 1,\n",
              " '廣西': 2,\n",
              " '後': 1,\n",
              " '後山': 1,\n",
              " '從': 1,\n",
              " '快': 1,\n",
              " '意外事故': 1,\n",
              " '應變': 1,\n",
              " '所有': 1,\n",
              " '持續': 1,\n",
              " '指出': 2,\n",
              " '指示': 2,\n",
              " '排查': 1,\n",
              " '搜救': 2,\n",
              " '據': 1,\n",
              " '數據': 1,\n",
              " '於': 1,\n",
              " '於今': 1,\n",
              " '日': 3,\n",
              " '是': 1,\n",
              " '時間': 2,\n",
              " '曾': 1,\n",
              " '最': 1,\n",
              " '最慘': 1,\n",
              " '月': 2,\n",
              " '未明': 2,\n",
              " '村': 1,\n",
              " '東方航空': 1,\n",
              " '東方航空公司': 1,\n",
              " '東航': 2,\n",
              " '查明': 1,\n",
              " '根據': 1,\n",
              " '桂林': 1,\n",
              " '梧州市': 1,\n",
              " '楊': 1,\n",
              " '機上': 2,\n",
              " '機制': 1,\n",
              " '機組人員': 1,\n",
              " '機身': 1,\n",
              " '民用航空': 1,\n",
              " '民航史': 1,\n",
              " '民航局': 1,\n",
              " '民航機': 1,\n",
              " '沒想到': 1,\n",
              " '沒有': 1,\n",
              " '波音': 1,\n",
              " '清查': 1,\n",
              " '狠抓': 1,\n",
              " '生命': 1,\n",
              " '生死': 2,\n",
              " '當時': 1,\n",
              " '發': 1,\n",
              " '發生': 2,\n",
              " '的': 2,\n",
              " '盡': 1,\n",
              " '目前': 1,\n",
              " '相隔': 1,\n",
              " '確保': 2,\n",
              " '確定': 1,\n",
              " '稱': 1,\n",
              " '空難': 1,\n",
              " '突破': 1,\n",
              " '立即': 2,\n",
              " '第一': 1,\n",
              " '粉碎性': 1,\n",
              " '組織': 2,\n",
              " '絕對': 2,\n",
              " '習近平': 3,\n",
              " '航班': 3,\n",
              " '航空': 2,\n",
              " '落實': 1,\n",
              " '處理': 1,\n",
              " '號': 1,\n",
              " '要': 1,\n",
              " '解體': 2,\n",
              " '調查': 1,\n",
              " '責任': 1,\n",
              " '資料': 1,\n",
              " '載有': 1,\n",
              " '遇難': 1,\n",
              " '運行': 1,\n",
              " '運輸': 1,\n",
              " '鄉土': 1,\n",
              " '重要': 1,\n",
              " '陽朔縣': 1,\n",
              " '領域': 1,\n",
              " '領導': 1,\n",
              " '飛': 2,\n",
              " '飛機': 1,\n",
              " '飛行': 1,\n",
              " '驚悉': 2,\n",
              " '（': 1,\n",
              " '）': 1,\n",
              " '，': 24}"
            ]
          },
          "metadata": {},
          "execution_count": 25
        }
      ]
    },
    {
      "cell_type": "markdown",
      "source": [
        "Method2: 用Counter記數"
      ],
      "metadata": {
        "id": "u6fezoqf3SN-"
      }
    },
    {
      "cell_type": "code",
      "source": [
        "from collections import Counter\n",
        "word_count_list = []\n",
        "for sent in tokens_1:\n",
        "  for item in sent:\n",
        "    word_count_list.append(item)\n",
        "word_count_list"
      ],
      "metadata": {
        "id": "Xr9gaqNB3XDo",
        "colab": {
          "base_uri": "https://localhost:8080/"
        },
        "outputId": "2ce15b3c-63fb-43a1-87e2-16fd64c5364a"
      },
      "execution_count": 26,
      "outputs": [
        {
          "output_type": "execute_result",
          "data": {
            "text/plain": [
              "['東航',\n",
              " '墜機',\n",
              " '132',\n",
              " '人',\n",
              " '生死',\n",
              " '未明',\n",
              " ' ',\n",
              " '習近平',\n",
              " '「',\n",
              " '驚悉',\n",
              " '失事',\n",
              " '」',\n",
              " '東方航空公司',\n",
              " 'MU5735',\n",
              " '航班',\n",
              " '今',\n",
              " '（',\n",
              " '21',\n",
              " '）',\n",
              " '日',\n",
              " '在',\n",
              " '廣西',\n",
              " '梧州市',\n",
              " '上空',\n",
              " '墜毀',\n",
              " '，',\n",
              " '機上',\n",
              " '載有',\n",
              " '乘客',\n",
              " '123',\n",
              " '人',\n",
              " '、',\n",
              " '機組人員',\n",
              " '9',\n",
              " '人',\n",
              " '。',\n",
              " '根據',\n",
              " '大陸',\n",
              " '官方',\n",
              " '媒體',\n",
              " '《',\n",
              " '人民日報',\n",
              " '》',\n",
              " '報導',\n",
              " '指出',\n",
              " '，',\n",
              " '大陸',\n",
              " '國家',\n",
              " '主席',\n",
              " '習近平',\n",
              " '第一',\n",
              " '時間',\n",
              " '指示',\n",
              " '全力',\n",
              " '組織',\n",
              " '搜救',\n",
              " '，',\n",
              " '調查',\n",
              " '飛',\n",
              " '安',\n",
              " '事故',\n",
              " '原因',\n",
              " '，',\n",
              " '並且',\n",
              " '全力',\n",
              " '清查',\n",
              " '所有',\n",
              " '民航機',\n",
              " '安全隱患',\n",
              " '。',\n",
              " '《',\n",
              " '人民日報',\n",
              " '》',\n",
              " '報導',\n",
              " '稱',\n",
              " '，',\n",
              " '事發',\n",
              " '後',\n",
              " '習近平',\n",
              " '立即',\n",
              " '作出',\n",
              " '重要',\n",
              " '指示',\n",
              " '，',\n",
              " '「',\n",
              " '驚悉',\n",
              " '東航',\n",
              " 'MU5735',\n",
              " '航班',\n",
              " '失事',\n",
              " '，',\n",
              " '要',\n",
              " '立即',\n",
              " '啓動',\n",
              " '應變',\n",
              " '機制',\n",
              " '，',\n",
              " '全力',\n",
              " '組織',\n",
              " '搜救',\n",
              " '，',\n",
              " '妥善處置',\n",
              " '善後',\n",
              " '。',\n",
              " '國務院',\n",
              " '已',\n",
              " '委派',\n",
              " '領導',\n",
              " '同志',\n",
              " '協調',\n",
              " '處理',\n",
              " '，',\n",
              " '盡',\n",
              " '快',\n",
              " '查明',\n",
              " '事故',\n",
              " '原因',\n",
              " '，',\n",
              " '並',\n",
              " '加強',\n",
              " '民用航空',\n",
              " '領域',\n",
              " '安全隱患',\n",
              " '排查',\n",
              " '，',\n",
              " '狠抓',\n",
              " '責任',\n",
              " '落實',\n",
              " '，',\n",
              " '確保',\n",
              " '航空',\n",
              " '運行',\n",
              " '絕對',\n",
              " '安全',\n",
              " '，',\n",
              " '確保',\n",
              " '人民',\n",
              " '生命',\n",
              " '絕對',\n",
              " '安全',\n",
              " '。',\n",
              " '」',\n",
              " '大陸',\n",
              " '民航局',\n",
              " '曾',\n",
              " '於今',\n",
              " '年',\n",
              " '2',\n",
              " '月',\n",
              " '25',\n",
              " '日',\n",
              " '發',\n",
              " '布',\n",
              " '數據',\n",
              " '指出',\n",
              " '，',\n",
              " '「',\n",
              " '中國民航',\n",
              " '運輸',\n",
              " '航空',\n",
              " '已',\n",
              " '實現',\n",
              " '持續',\n",
              " '安全',\n",
              " '飛行',\n",
              " '時間',\n",
              " '突破',\n",
              " '1',\n",
              " '億',\n",
              " '小時',\n",
              " '。',\n",
              " '」',\n",
              " '沒想到',\n",
              " '今天下午',\n",
              " '兩點',\n",
              " '多',\n",
              " '，',\n",
              " '就',\n",
              " '發生',\n",
              " '大陸',\n",
              " '東方航空',\n",
              " 'MU5735',\n",
              " '國內',\n",
              " '客機',\n",
              " '墜毀',\n",
              " '事件',\n",
              " '，',\n",
              " '目前',\n",
              " '確定',\n",
              " '機身',\n",
              " '已經',\n",
              " '解體',\n",
              " '，',\n",
              " '機上',\n",
              " '132',\n",
              " '人',\n",
              " '生死',\n",
              " '未明',\n",
              " '。',\n",
              " '據',\n",
              " '大陸',\n",
              " '官方',\n",
              " '資料',\n",
              " '，',\n",
              " '大陸',\n",
              " '國內',\n",
              " '航班',\n",
              " '已經',\n",
              " '相隔',\n",
              " '11',\n",
              " '年',\n",
              " '多',\n",
              " '沒有',\n",
              " '意外事故',\n",
              " '，',\n",
              " '最慘',\n",
              " '的',\n",
              " '一次',\n",
              " '發生',\n",
              " '於',\n",
              " '1992',\n",
              " '年',\n",
              " '11',\n",
              " '月',\n",
              " '24',\n",
              " '日',\n",
              " '，',\n",
              " '當時',\n",
              " '南方航空公司',\n",
              " '波音',\n",
              " '737',\n",
              " '-',\n",
              " '2523',\n",
              " '號',\n",
              " '飛機',\n",
              " '從',\n",
              " '廣州',\n",
              " '飛',\n",
              " '桂林',\n",
              " '，',\n",
              " '在',\n",
              " '廣西',\n",
              " '陽朔縣',\n",
              " '楊',\n",
              " '堤',\n",
              " '鄉土',\n",
              " '嶺',\n",
              " '村',\n",
              " '後山',\n",
              " '粉碎性',\n",
              " '解體',\n",
              " '，',\n",
              " '141',\n",
              " '人',\n",
              " '遇難',\n",
              " '，',\n",
              " '是',\n",
              " '大陸',\n",
              " '民航史',\n",
              " '上',\n",
              " '最',\n",
              " '嚴重',\n",
              " '的',\n",
              " '空難',\n",
              " '之一',\n",
              " '。']"
            ]
          },
          "metadata": {},
          "execution_count": 26
        }
      ]
    },
    {
      "cell_type": "code",
      "source": [
        "word_count_list = [item for sent in tokens_1 for item in sent]"
      ],
      "metadata": {
        "id": "Ai9lJZv0er_9"
      },
      "execution_count": 27,
      "outputs": []
    },
    {
      "cell_type": "code",
      "source": [
        "word_count_list"
      ],
      "metadata": {
        "id": "bi8yEDeSeyDA",
        "colab": {
          "base_uri": "https://localhost:8080/"
        },
        "outputId": "1426eef6-1dd5-460f-d373-9e8823360360"
      },
      "execution_count": 28,
      "outputs": [
        {
          "output_type": "execute_result",
          "data": {
            "text/plain": [
              "['東航',\n",
              " '墜機',\n",
              " '132',\n",
              " '人',\n",
              " '生死',\n",
              " '未明',\n",
              " ' ',\n",
              " '習近平',\n",
              " '「',\n",
              " '驚悉',\n",
              " '失事',\n",
              " '」',\n",
              " '東方航空公司',\n",
              " 'MU5735',\n",
              " '航班',\n",
              " '今',\n",
              " '（',\n",
              " '21',\n",
              " '）',\n",
              " '日',\n",
              " '在',\n",
              " '廣西',\n",
              " '梧州市',\n",
              " '上空',\n",
              " '墜毀',\n",
              " '，',\n",
              " '機上',\n",
              " '載有',\n",
              " '乘客',\n",
              " '123',\n",
              " '人',\n",
              " '、',\n",
              " '機組人員',\n",
              " '9',\n",
              " '人',\n",
              " '。',\n",
              " '根據',\n",
              " '大陸',\n",
              " '官方',\n",
              " '媒體',\n",
              " '《',\n",
              " '人民日報',\n",
              " '》',\n",
              " '報導',\n",
              " '指出',\n",
              " '，',\n",
              " '大陸',\n",
              " '國家',\n",
              " '主席',\n",
              " '習近平',\n",
              " '第一',\n",
              " '時間',\n",
              " '指示',\n",
              " '全力',\n",
              " '組織',\n",
              " '搜救',\n",
              " '，',\n",
              " '調查',\n",
              " '飛',\n",
              " '安',\n",
              " '事故',\n",
              " '原因',\n",
              " '，',\n",
              " '並且',\n",
              " '全力',\n",
              " '清查',\n",
              " '所有',\n",
              " '民航機',\n",
              " '安全隱患',\n",
              " '。',\n",
              " '《',\n",
              " '人民日報',\n",
              " '》',\n",
              " '報導',\n",
              " '稱',\n",
              " '，',\n",
              " '事發',\n",
              " '後',\n",
              " '習近平',\n",
              " '立即',\n",
              " '作出',\n",
              " '重要',\n",
              " '指示',\n",
              " '，',\n",
              " '「',\n",
              " '驚悉',\n",
              " '東航',\n",
              " 'MU5735',\n",
              " '航班',\n",
              " '失事',\n",
              " '，',\n",
              " '要',\n",
              " '立即',\n",
              " '啓動',\n",
              " '應變',\n",
              " '機制',\n",
              " '，',\n",
              " '全力',\n",
              " '組織',\n",
              " '搜救',\n",
              " '，',\n",
              " '妥善處置',\n",
              " '善後',\n",
              " '。',\n",
              " '國務院',\n",
              " '已',\n",
              " '委派',\n",
              " '領導',\n",
              " '同志',\n",
              " '協調',\n",
              " '處理',\n",
              " '，',\n",
              " '盡',\n",
              " '快',\n",
              " '查明',\n",
              " '事故',\n",
              " '原因',\n",
              " '，',\n",
              " '並',\n",
              " '加強',\n",
              " '民用航空',\n",
              " '領域',\n",
              " '安全隱患',\n",
              " '排查',\n",
              " '，',\n",
              " '狠抓',\n",
              " '責任',\n",
              " '落實',\n",
              " '，',\n",
              " '確保',\n",
              " '航空',\n",
              " '運行',\n",
              " '絕對',\n",
              " '安全',\n",
              " '，',\n",
              " '確保',\n",
              " '人民',\n",
              " '生命',\n",
              " '絕對',\n",
              " '安全',\n",
              " '。',\n",
              " '」',\n",
              " '大陸',\n",
              " '民航局',\n",
              " '曾',\n",
              " '於今',\n",
              " '年',\n",
              " '2',\n",
              " '月',\n",
              " '25',\n",
              " '日',\n",
              " '發',\n",
              " '布',\n",
              " '數據',\n",
              " '指出',\n",
              " '，',\n",
              " '「',\n",
              " '中國民航',\n",
              " '運輸',\n",
              " '航空',\n",
              " '已',\n",
              " '實現',\n",
              " '持續',\n",
              " '安全',\n",
              " '飛行',\n",
              " '時間',\n",
              " '突破',\n",
              " '1',\n",
              " '億',\n",
              " '小時',\n",
              " '。',\n",
              " '」',\n",
              " '沒想到',\n",
              " '今天下午',\n",
              " '兩點',\n",
              " '多',\n",
              " '，',\n",
              " '就',\n",
              " '發生',\n",
              " '大陸',\n",
              " '東方航空',\n",
              " 'MU5735',\n",
              " '國內',\n",
              " '客機',\n",
              " '墜毀',\n",
              " '事件',\n",
              " '，',\n",
              " '目前',\n",
              " '確定',\n",
              " '機身',\n",
              " '已經',\n",
              " '解體',\n",
              " '，',\n",
              " '機上',\n",
              " '132',\n",
              " '人',\n",
              " '生死',\n",
              " '未明',\n",
              " '。',\n",
              " '據',\n",
              " '大陸',\n",
              " '官方',\n",
              " '資料',\n",
              " '，',\n",
              " '大陸',\n",
              " '國內',\n",
              " '航班',\n",
              " '已經',\n",
              " '相隔',\n",
              " '11',\n",
              " '年',\n",
              " '多',\n",
              " '沒有',\n",
              " '意外事故',\n",
              " '，',\n",
              " '最慘',\n",
              " '的',\n",
              " '一次',\n",
              " '發生',\n",
              " '於',\n",
              " '1992',\n",
              " '年',\n",
              " '11',\n",
              " '月',\n",
              " '24',\n",
              " '日',\n",
              " '，',\n",
              " '當時',\n",
              " '南方航空公司',\n",
              " '波音',\n",
              " '737',\n",
              " '-',\n",
              " '2523',\n",
              " '號',\n",
              " '飛機',\n",
              " '從',\n",
              " '廣州',\n",
              " '飛',\n",
              " '桂林',\n",
              " '，',\n",
              " '在',\n",
              " '廣西',\n",
              " '陽朔縣',\n",
              " '楊',\n",
              " '堤',\n",
              " '鄉土',\n",
              " '嶺',\n",
              " '村',\n",
              " '後山',\n",
              " '粉碎性',\n",
              " '解體',\n",
              " '，',\n",
              " '141',\n",
              " '人',\n",
              " '遇難',\n",
              " '，',\n",
              " '是',\n",
              " '大陸',\n",
              " '民航史',\n",
              " '上',\n",
              " '最',\n",
              " '嚴重',\n",
              " '的',\n",
              " '空難',\n",
              " '之一',\n",
              " '。']"
            ]
          },
          "metadata": {},
          "execution_count": 28
        }
      ]
    },
    {
      "cell_type": "code",
      "source": [
        "Counter(word_count_list).most_common(5)"
      ],
      "metadata": {
        "id": "i6MFq7MeenGk",
        "colab": {
          "base_uri": "https://localhost:8080/"
        },
        "outputId": "3fa54e7a-674d-4d03-97f0-a87ecb5c3357"
      },
      "execution_count": 29,
      "outputs": [
        {
          "output_type": "execute_result",
          "data": {
            "text/plain": [
              "[('，', 24), ('。', 7), ('大陸', 7), ('人', 5), ('習近平', 3)]"
            ]
          },
          "metadata": {},
          "execution_count": 29
        }
      ]
    }
  ]
}