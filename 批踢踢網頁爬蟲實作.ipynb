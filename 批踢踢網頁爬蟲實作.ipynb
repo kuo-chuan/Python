{
  "nbformat": 4,
  "nbformat_minor": 0,
  "metadata": {
    "colab": {
      "name": "批踢踢網頁爬蟲實作",
      "provenance": [],
      "authorship_tag": "ABX9TyNeIsQ9yw+TMUvH7nn/4QQ5",
      "include_colab_link": true
    },
    "kernelspec": {
      "name": "python3",
      "display_name": "Python 3"
    },
    "language_info": {
      "name": "python"
    }
  },
  "cells": [
    {
      "cell_type": "markdown",
      "metadata": {
        "id": "view-in-github",
        "colab_type": "text"
      },
      "source": [
        "<a href=\"https://colab.research.google.com/github/kuo-chuan/Python/blob/main/%E6%89%B9%E8%B8%A2%E8%B8%A2%E7%B6%B2%E9%A0%81%E7%88%AC%E8%9F%B2%E5%AF%A6%E4%BD%9C.ipynb\" target=\"_parent\"><img src=\"https://colab.research.google.com/assets/colab-badge.svg\" alt=\"Open In Colab\"/></a>"
      ]
    },
    {
      "cell_type": "markdown",
      "source": [
        "PTT 是全台最大的 BBS 資訊站，提供許多事件的討論，也是許多行銷人、新聞媒體觀察的輿論的重要來源。"
      ],
      "metadata": {
        "id": "cfICl3rQQj-H"
      }
    },
    {
      "cell_type": "code",
      "execution_count": 2,
      "metadata": {
        "id": "1CwaF5OuQgDe"
      },
      "outputs": [],
      "source": [
        "import requests\n",
        "from bs4 import BeautifulSoup\n",
        "\n",
        "payload = {\n",
        "    \"from\": \"/bbs/Gossiping/index.html\",\n",
        "    \"yes\": \"yes\"\n",
        "}\n",
        "headers = {\n",
        "  'user-agent': 'Mozilla/5.0 (Macintosh; Intel Mac OS X 10_12_3) AppleWebKit/537.36 (KHTML, like Gecko) Chrome/56.0.2924.87 Safari/537.36'\n",
        "}\n",
        "\n",
        "\n",
        "rs = requests.Session()\n",
        "rs.post('https://www.ptt.cc/ask/over18', data=payload, headers=headers)\n",
        "res = rs.get('https://www.ptt.cc/bbs/Gossiping/index.html', headers=headers)\n",
        "soup = BeautifulSoup(res.text, 'html.parser')\n",
        "\n",
        "# 填入每篇文章的class name\n",
        "items = soup.find_all('div', class_='r-ent')\n",
        "\n",
        "main_url='https://www.ptt.cc/'\n",
        "result = []\n",
        "for item in items:\n",
        "    \n",
        "    # 填入每篇文章title的class name\n",
        "    title = item.find('div', class_='title').text.strip()\n",
        "    \n",
        "    # 填入每篇文章url的tag和attribute\n",
        "    url = main_url + item.find('a')['href']\n",
        "    result.append([title, url])"
      ]
    },
    {
      "cell_type": "code",
      "source": [
        "content_list = []\n",
        "for row in result:\n",
        "    title, url = row[0], row[1]\n",
        "\n",
        "  # 填入session資訊並且透過request來得到HTML\n",
        "    rs_in = requests.Session()\n",
        "    rs_in.post('https://www.ptt.cc/ask/over18', data=payload, headers=headers)\n",
        "    res_in = rs.get(url, headers=headers)\n",
        "    soup = BeautifulSoup(res_in.text, 'html.parser')\n",
        "\n",
        "  # 填入正確的tag和名稱\n",
        "    content = soup.find('div', id='main-content').text\n",
        "    content_list.append([title, url, content])\n",
        "\n",
        "# 存檔\n",
        "# import pandas as pd\n",
        "# pd.DataFrame(content_list, columns=['title','url','content']).to_excel('content.csv')"
      ],
      "metadata": {
        "id": "XufjqWPBQyUo"
      },
      "execution_count": 5,
      "outputs": []
    },
    {
      "cell_type": "code",
      "source": [
        "def ppt_next_page(nowpage):\n",
        "    import requests\n",
        "    from bs4 import BeautifulSoup\n",
        "    payload = {\n",
        "        \"from\": \"/bbs/Gossiping/index.html\",\n",
        "        \"yes\": \"yes\"\n",
        "    }\n",
        "    headers = {\n",
        "      'user-agent': 'Mozilla/5.0 (Macintosh; Intel Mac OS X 10_12_3) AppleWebKit/537.36 (KHTML, like Gecko) Chrome/56.0.2924.87 Safari/537.36'\n",
        "    }\n",
        "    rs = requests.Session()\n",
        "    rs.post('https://www.ptt.cc/ask/over18', data=payload, headers=headers)\n",
        "    res = rs.get(nowpage, headers=headers)\n",
        "    soup = BeautifulSoup(res.text, 'html.parser')\n",
        "    next_pages = soup.find_all(\"a\", class_=\"btn wide\")\n",
        "    main_url = 'https://www.ptt.cc/'\n",
        "    next_page_url = main_url + next_pages[1][\"href\"]\n",
        "    return next_page_url\n",
        "\n",
        "def ppt_title_url(url):\n",
        "    payload = {\n",
        "        \"from\": \"/bbs/Gossiping/index.html\",\n",
        "        \"yes\": \"yes\"\n",
        "    }\n",
        "    headers = {\n",
        "      'user-agent': 'Mozilla/5.0 (Macintosh; Intel Mac OS X 10_12_3) AppleWebKit/537.36 (KHTML, like Gecko) Chrome/56.0.2924.87 Safari/537.36'\n",
        "    }\n",
        "    res_n = rs.get(url, headers=headers)\n",
        "    soup_n = BeautifulSoup(res_n.text, 'html.parser')\n",
        "    items_n = soup_n.find_all('div', class_='r-ent')\n",
        "    result_n = []\n",
        "    for item in items_n:\n",
        "        title = item.find('div', class_='title').text.strip()\n",
        "        url = main_url + item.find('a')['href']\n",
        "        result_n.append([title, url])\n",
        "    return result_n\n",
        "    \n",
        "firstpage = \"https://www.ptt.cc/bbs/Gossiping/index.html\"\n",
        "page = firstpage\n",
        "\n",
        "for i in range(10):\n",
        "    print(ppt_next_page(page))\n",
        "    page = ppt_next_page(page)"
      ],
      "metadata": {
        "colab": {
          "base_uri": "https://localhost:8080/"
        },
        "id": "VJlE-wrGQ4Ut",
        "outputId": "2548aa68-b7e8-4c27-a787-d83143ba405d"
      },
      "execution_count": 6,
      "outputs": [
        {
          "output_type": "stream",
          "name": "stdout",
          "text": [
            "https://www.ptt.cc//bbs/Gossiping/index39189.html\n",
            "https://www.ptt.cc//bbs/Gossiping/index39188.html\n",
            "https://www.ptt.cc//bbs/Gossiping/index39187.html\n",
            "https://www.ptt.cc//bbs/Gossiping/index39186.html\n",
            "https://www.ptt.cc//bbs/Gossiping/index39185.html\n",
            "https://www.ptt.cc//bbs/Gossiping/index39184.html\n",
            "https://www.ptt.cc//bbs/Gossiping/index39183.html\n",
            "https://www.ptt.cc//bbs/Gossiping/index39182.html\n",
            "https://www.ptt.cc//bbs/Gossiping/index39181.html\n",
            "https://www.ptt.cc//bbs/Gossiping/index39180.html\n"
          ]
        }
      ]
    }
  ]
}